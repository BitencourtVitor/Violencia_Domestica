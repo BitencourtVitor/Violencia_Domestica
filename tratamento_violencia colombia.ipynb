{
 "cells": [
  {
   "cell_type": "markdown",
   "id": "e8466e49",
   "metadata": {},
   "source": [
    "# Violência doméstica na Colômbia"
   ]
  },
  {
   "cell_type": "markdown",
   "id": "e3c82b5a",
   "metadata": {},
   "source": [
    "### Passo 1 - Importação da biblioteca Pandas e leitura do arquivo.\n",
    "Observe que precisei usar barras duplas invertidas, \"r\" antes do diretório e \"low_memory=False\" como condições da importação."
   ]
  },
  {
   "cell_type": "code",
   "execution_count": 8,
   "id": "ef5d129d",
   "metadata": {},
   "outputs": [],
   "source": [
    "import pandas as pd\n",
    "\n",
    "arquivo = r\"C:\\Users\\Ryzen\\OneDrive\\Área de Trabalho\\Projetos\\(INC) Violência Doméstica na Colômbia\\database_tratada_2.xlsx\"\n",
    "\n",
    "df = pd.read_excel(arquivo)\n"
   ]
  },
  {
   "cell_type": "markdown",
   "id": "43f02c23",
   "metadata": {},
   "source": [
    " "
   ]
  },
  {
   "cell_type": "markdown",
   "id": "a991693b",
   "metadata": {},
   "source": [
    "### Passo 2 - Entender a estrutura da base de dados e visualizar uma pequena parte dela"
   ]
  },
  {
   "cell_type": "code",
   "execution_count": 17,
   "id": "90ae8d08",
   "metadata": {},
   "outputs": [
    {
     "ename": "NameError",
     "evalue": "name 'municipio' is not defined",
     "output_type": "error",
     "traceback": [
      "\u001b[1;31m---------------------------------------------------------------------------\u001b[0m",
      "\u001b[1;31mNameError\u001b[0m                                 Traceback (most recent call last)",
      "\u001b[1;32m~\\AppData\\Local\\Temp\\ipykernel_13956\\1910477990.py\u001b[0m in \u001b[0;36m<module>\u001b[1;34m\u001b[0m\n\u001b[1;32m----> 1\u001b[1;33m \u001b[0mdf\u001b[0m\u001b[1;33m.\u001b[0m\u001b[0minfo\u001b[0m\u001b[1;33m(\u001b[0m\u001b[0mmunicipio\u001b[0m\u001b[1;33m)\u001b[0m\u001b[1;33m\u001b[0m\u001b[1;33m\u001b[0m\u001b[0m\n\u001b[0m",
      "\u001b[1;31mNameError\u001b[0m: name 'municipio' is not defined"
     ]
    }
   ],
   "source": [
    "df.municipioinfo()"
   ]
  },
  {
   "cell_type": "code",
   "execution_count": 10,
   "id": "cf3ac079",
   "metadata": {},
   "outputs": [
    {
     "data": {
      "text/html": [
       "<div>\n",
       "<style scoped>\n",
       "    .dataframe tbody tr th:only-of-type {\n",
       "        vertical-align: middle;\n",
       "    }\n",
       "\n",
       "    .dataframe tbody tr th {\n",
       "        vertical-align: top;\n",
       "    }\n",
       "\n",
       "    .dataframe thead th {\n",
       "        text-align: right;\n",
       "    }\n",
       "</style>\n",
       "<table border=\"1\" class=\"dataframe\">\n",
       "  <thead>\n",
       "    <tr style=\"text-align: right;\">\n",
       "      <th></th>\n",
       "      <th>departamento</th>\n",
       "      <th>municipio</th>\n",
       "      <th>armas_metodos</th>\n",
       "      <th>data_ocorrido</th>\n",
       "      <th>genero</th>\n",
       "      <th>grupo_etario</th>\n",
       "      <th>quantidade</th>\n",
       "    </tr>\n",
       "  </thead>\n",
       "  <tbody>\n",
       "    <tr>\n",
       "      <th>0</th>\n",
       "      <td>Atlántico</td>\n",
       "      <td>Barranquilla</td>\n",
       "      <td>Arma branca</td>\n",
       "      <td>2010-01-01</td>\n",
       "      <td>Masculino</td>\n",
       "      <td>Adultos</td>\n",
       "      <td>1</td>\n",
       "    </tr>\n",
       "    <tr>\n",
       "      <th>1</th>\n",
       "      <td>Boyacá</td>\n",
       "      <td>Duitama</td>\n",
       "      <td>Arma branca</td>\n",
       "      <td>2010-01-01</td>\n",
       "      <td>Feminino</td>\n",
       "      <td>Adultos</td>\n",
       "      <td>1</td>\n",
       "    </tr>\n",
       "    <tr>\n",
       "      <th>2</th>\n",
       "      <td>Caquetá</td>\n",
       "      <td>Puerto Rico</td>\n",
       "      <td>Arma branca</td>\n",
       "      <td>2010-01-01</td>\n",
       "      <td>Masculino</td>\n",
       "      <td>Adultos</td>\n",
       "      <td>1</td>\n",
       "    </tr>\n",
       "    <tr>\n",
       "      <th>3</th>\n",
       "      <td>Casanare</td>\n",
       "      <td>Maní</td>\n",
       "      <td>Arma branca</td>\n",
       "      <td>2010-01-01</td>\n",
       "      <td>Feminino</td>\n",
       "      <td>Adultos</td>\n",
       "      <td>1</td>\n",
       "    </tr>\n",
       "    <tr>\n",
       "      <th>4</th>\n",
       "      <td>Cundinamarca</td>\n",
       "      <td>Bogotá D.C.</td>\n",
       "      <td>Arma branca</td>\n",
       "      <td>2010-01-01</td>\n",
       "      <td>Feminino</td>\n",
       "      <td>Adultos</td>\n",
       "      <td>1</td>\n",
       "    </tr>\n",
       "  </tbody>\n",
       "</table>\n",
       "</div>"
      ],
      "text/plain": [
       "   departamento      municipio armas_metodos data_ocorrido     genero  \\\n",
       "0     Atlántico  Barranquilla    Arma branca    2010-01-01  Masculino   \n",
       "1        Boyacá        Duitama   Arma branca    2010-01-01   Feminino   \n",
       "2       Caquetá    Puerto Rico   Arma branca    2010-01-01  Masculino   \n",
       "3      Casanare           Maní   Arma branca    2010-01-01   Feminino   \n",
       "4  Cundinamarca   Bogotá D.C.    Arma branca    2010-01-01   Feminino   \n",
       "\n",
       "  grupo_etario  quantidade  \n",
       "0      Adultos           1  \n",
       "1      Adultos           1  \n",
       "2      Adultos           1  \n",
       "3      Adultos           1  \n",
       "4      Adultos           1  "
      ]
     },
     "execution_count": 10,
     "metadata": {},
     "output_type": "execute_result"
    }
   ],
   "source": [
    "df.head(5)"
   ]
  },
  {
   "cell_type": "markdown",
   "id": "4a2d1e13",
   "metadata": {},
   "source": [
    " "
   ]
  },
  {
   "cell_type": "markdown",
   "id": "c9b2e1f1",
   "metadata": {},
   "source": [
    "### Passo 3 - Começar o tratamento!\n",
    "Para o tratamento, dividi meu terceiro passo em grandes etapas:\n",
    "- Excluir colunas que considero desnecessárias para a análise\n",
    "- Renomear as colunas (estavam em espanhol, dificultando um pouco o entendimento)\n",
    "- Tratar colunas com nomes, um exemplo é o das armas utilizadas: existiam 4 colunas diferentes para tratar da mesma informação: crimes com armas brancas"
   ]
  },
  {
   "cell_type": "code",
   "execution_count": 38,
   "id": "358ed67f",
   "metadata": {},
   "outputs": [],
   "source": [
    "# Excluí colunas\n",
    "df.drop(['Unnamed: 0', 'codigo_dane'], axis=1, inplace=True)"
   ]
  },
  {
   "cell_type": "code",
   "execution_count": 39,
   "id": "39f475ea",
   "metadata": {},
   "outputs": [],
   "source": [
    "# Renomeei as que precisei\n",
    "df = df.rename(columns={\"armas_medios\": \"armas_metodos\",\"fecha_hecho\": \"data_ocorrido\", \"cantidad\": \"quantidade\"})"
   ]
  },
  {
   "cell_type": "code",
   "execution_count": 55,
   "id": "bcf151ae",
   "metadata": {},
   "outputs": [],
   "source": [
    "# Corrigi as palavras que estavam com todas as letras em maiúsculo.\n",
    "df['departamento'] = df['departamento'].apply(lambda x: x.title())\n",
    "df['municipio'] = df['municipio'].apply(lambda x: x.title())"
   ]
  },
  {
   "cell_type": "markdown",
   "id": "5228ebda",
   "metadata": {},
   "source": [
    " "
   ]
  },
  {
   "cell_type": "code",
   "execution_count": 49,
   "id": "b894136f",
   "metadata": {
    "scrolled": false
   },
   "outputs": [
    {
     "name": "stdout",
     "output_type": "stream",
     "text": [
      "Contundente      280171\n",
      "Sem armas        169055\n",
      "Não reportado     76351\n",
      "Arma branca       43570\n",
      "Escopolamina       3863\n",
      "Arma de fogo       2710\n",
      "-                     1\n",
      "Name: armas_metodos, dtype: int64\n"
     ]
    }
   ],
   "source": [
    "# Observei a coluna dos tipos de armas\n",
    "armas_count = df['armas_metodos'].value_counts()\n",
    "\n",
    "print(armas_count)"
   ]
  },
  {
   "cell_type": "code",
   "execution_count": 41,
   "id": "966c40e0",
   "metadata": {},
   "outputs": [],
   "source": [
    "# Realizei as alterações que considerei pertinentes\n",
    "df['armas_metodos'] = df['armas_metodos'].replace({\n",
    "    'CONTUNDENTES': 'Contundente',\n",
    "    'SIN EMPLEO DE ARMAS': 'Sem armas',\n",
    "    'NO REPORTADO': 'Não reportado',\n",
    "    'ARMA BLANCA / CORTOPUNZANTE': 'Arma branca',\n",
    "    'NO REPORTA': 'Não reportado',\n",
    "    'ESCOPOLAMINA': 'Escopolamina',\n",
    "    'ARMA DE FUEGO': 'Arma de fogo',\n",
    "    'CORTOPUNZANTES': 'Arma branca',\n",
    "    'CORTANTES': 'Arma branca',\n",
    "    'PUNZANTES': 'Arma branca'\n",
    "})"
   ]
  },
  {
   "cell_type": "markdown",
   "id": "060616c1",
   "metadata": {},
   "source": [
    " "
   ]
  },
  {
   "cell_type": "code",
   "execution_count": 52,
   "id": "71573f51",
   "metadata": {},
   "outputs": [
    {
     "name": "stdout",
     "output_type": "stream",
     "text": [
      "Feminino        437931\n",
      "Masculino       137257\n",
      "NO REPORTA         294\n",
      "NO REPORTADO       232\n",
      "-                    7\n",
      "Name: genero, dtype: int64\n"
     ]
    }
   ],
   "source": [
    "# Observei a coluna dos gêneros agressores\n",
    "genero = df['genero'].value_counts()\n",
    "\n",
    "print(genero)"
   ]
  },
  {
   "cell_type": "code",
   "execution_count": 53,
   "id": "11e68c67",
   "metadata": {},
   "outputs": [],
   "source": [
    "# Realizei as alterações que considerei pertinentes\n",
    "df['genero'] = df['genero'].replace({\n",
    "    'MASCULINO': 'Masculino',\n",
    "    'FEMENINO': 'Feminino',\n",
    "    'NO REPORTA': 'Não reportado',\n",
    "    'NO REPORTADO': 'Não reportado'\n",
    "})"
   ]
  },
  {
   "cell_type": "markdown",
   "id": "86508f96",
   "metadata": {},
   "source": [
    " "
   ]
  },
  {
   "cell_type": "code",
   "execution_count": 43,
   "id": "a19512b8",
   "metadata": {
    "scrolled": true
   },
   "outputs": [
    {
     "name": "stdout",
     "output_type": "stream",
     "text": [
      "ADULTOS         503613\n",
      "ADOLESCENTES     35551\n",
      "MENORES          34439\n",
      "NO REPORTA         274\n",
      "NO REPORTADO       233\n",
      "Name: grupo_etario, dtype: int64\n"
     ]
    }
   ],
   "source": [
    "# Observei a coluna dos grupos etários\n",
    "grupo_etario = df['grupo_etario'].value_counts()\n",
    "\n",
    "print(grupo_etario)"
   ]
  },
  {
   "cell_type": "code",
   "execution_count": 44,
   "id": "9850a1f8",
   "metadata": {},
   "outputs": [],
   "source": [
    "# Realizei as alterações que considerei pertinentes\n",
    "df['grupo_etario'] = df['grupo_etario'].replace({\n",
    "    \"ADULTOS\": \"Adultos\",\n",
    "    \"ADOLESCENTES\": \"Adolescentes\",\n",
    "    \"MENORES\": \"Menores\",\n",
    "    \"NO REPORTA\": \"Não reportado\",\n",
    "    \"NO REPORTADO\": \"Não reportado\"\n",
    "})"
   ]
  },
  {
   "cell_type": "markdown",
   "id": "5f3dee4c",
   "metadata": {},
   "source": [
    " "
   ]
  },
  {
   "cell_type": "code",
   "execution_count": 48,
   "id": "b54513fe",
   "metadata": {},
   "outputs": [
    {
     "name": "stdout",
     "output_type": "stream",
     "text": [
      "BOGOTÁ D.C.              58548\n",
      "MEDELLÍN                 25142\n",
      "CALI                     22048\n",
      "BUCARAMANGA              11992\n",
      "VILLAVICENCIO            11453\n",
      "                         ...  \n",
      "CEPITÁ                       3\n",
      "SÁCAMA                       3\n",
      "BOJAYÁ                       2\n",
      "ZAPAYÁN                      2\n",
      "SAN JACINTO DEL CAUCA        2\n",
      "Name: municipio, Length: 1023, dtype: int64\n"
     ]
    }
   ],
   "source": [
    "# Observei a coluna dos municípios\n",
    "municipio = df['municipio'].value_counts()\n",
    "\n",
    "print(municipio)"
   ]
  },
  {
   "cell_type": "code",
   "execution_count": 47,
   "id": "d11a28f0",
   "metadata": {},
   "outputs": [],
   "source": [
    "# Realizei as alterações que considerei pertinentes\n",
    "df['municipio'] = df['municipio'].str.replace('\\(CT\\)', '', regex=True)"
   ]
  },
  {
   "cell_type": "markdown",
   "id": "ba30551f",
   "metadata": {},
   "source": [
    "Para algumas cidades estava escrito (CT) após o nome do município, o que inviabilizaria o estudo através da observação geográfica posteriormente."
   ]
  },
  {
   "cell_type": "markdown",
   "id": "8976e216",
   "metadata": {},
   "source": [
    " "
   ]
  },
  {
   "cell_type": "markdown",
   "id": "9cb193d7",
   "metadata": {},
   "source": [
    "### Passo 5 - Salvar o arquivo tratado"
   ]
  },
  {
   "cell_type": "code",
   "execution_count": 57,
   "id": "6c370114",
   "metadata": {},
   "outputs": [],
   "source": [
    "caminho_arquivo = r\"C:\\Users\\Ryzen\\OneDrive\\Área de Trabalho\\Projetos\\(INC) Violência Doméstica na Colômbia\\arquivo_excel.xlsx\"\n",
    "df.to_excel(caminho_arquivo, index=False)"
   ]
  },
  {
   "cell_type": "code",
   "execution_count": null,
   "id": "14892405",
   "metadata": {},
   "outputs": [],
   "source": []
  }
 ],
 "metadata": {
  "kernelspec": {
   "display_name": "Python 3 (ipykernel)",
   "language": "python",
   "name": "python3"
  },
  "language_info": {
   "codemirror_mode": {
    "name": "ipython",
    "version": 3
   },
   "file_extension": ".py",
   "mimetype": "text/x-python",
   "name": "python",
   "nbconvert_exporter": "python",
   "pygments_lexer": "ipython3",
   "version": "3.9.13"
  }
 },
 "nbformat": 4,
 "nbformat_minor": 5
}
